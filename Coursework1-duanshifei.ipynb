{
 "cells": [
  {
   "cell_type": "code",
   "execution_count": 28,
   "metadata": {},
   "outputs": [
    {
     "name": "stdout",
     "output_type": "stream",
     "text": [
      "    语文  数学  英语\n",
      "张飞  68  65  30\n",
      "关羽  95  76  98\n",
      "刘备  98  86  88\n",
      "典韦  90  88  77\n",
      "许褚  80  90  90\n",
      "平均成绩\n",
      "语文    86.2\n",
      "数学    81.0\n",
      "英语    76.6\n",
      "dtype: float64\n",
      "最低成绩\n",
      "语文    68\n",
      "数学    65\n",
      "英语    30\n",
      "dtype: int64\n",
      "最高成绩\n",
      "语文    98\n",
      "数学    90\n",
      "英语    98\n",
      "dtype: int64\n",
      "方差\n",
      "语文    150.2\n",
      "数学    109.0\n",
      "英语    734.8\n",
      "dtype: float64\n",
      "标准差\n",
      "语文    12.255611\n",
      "数学    10.440307\n",
      "英语    27.107195\n",
      "dtype: float64\n",
      "    语文  数学  英语  sum\n",
      "刘备  98  86  88  272\n",
      "关羽  95  76  98  269\n",
      "许褚  80  90  90  260\n",
      "典韦  90  88  77  255\n",
      "张飞  68  65  30  163\n"
     ]
    }
   ],
   "source": [
    "import pandas as pd\n",
    "from pandas import DataFrame\n",
    "\n",
    "data = {'语文':[68,95,98,90,80],'数学':[65,76,86,88,90],'英语':[30,98,88,77,90]}\n",
    "df = DataFrame(data,index = ['张飞','关羽','刘备','典韦','许褚'],columns = ['语文','数学','英语'])\n",
    "print(df)\n",
    "print('平均成绩')\n",
    "print(df.mean())\n",
    "print('最低成绩')\n",
    "print(df.min())\n",
    "print('最高成绩')\n",
    "print(df.max())\n",
    "print('方差')\n",
    "print(df.var())\n",
    "print('标准差')\n",
    "print(df.std())\n",
    "df['sum']=df.sum(axis=1)\n",
    "print(df.sort_values('sum',ascending=False))"
   ]
  },
  {
   "cell_type": "code",
   "execution_count": 67,
   "metadata": {},
   "outputs": [
    {
     "name": "stdout",
     "output_type": "stream",
     "text": [
      "         id\n",
      "brand      \n",
      "吉利汽车     96\n",
      "一汽马自达    95\n",
      "一汽-大众    52\n",
      "上汽大众     36\n",
      "一汽-大众奥迪  19\n",
      "...      ..\n",
      "开瑞汽车      1\n",
      "天津一汽      1\n",
      "凯翼汽车      1\n",
      "奇瑞新能源     1\n",
      "东风风行      1\n",
      "\n",
      "[75 rows x 1 columns]\n",
      "           id\n",
      "car_model    \n",
      "阿特兹        75\n",
      "星越         43\n",
      "速腾         22\n",
      "马自达CX-4    20\n",
      "博越         13\n",
      "...        ..\n",
      "悦翔          1\n",
      "捷豹XEL       1\n",
      "捷豹XFL       1\n",
      "撼路者         1\n",
      "高尔夫（进口）     1\n",
      "\n",
      "[212 rows x 1 columns]\n"
     ]
    }
   ],
   "source": [
    "data2 = pd.read_csv('D:\\Python\\car_complain.csv')\n",
    "data3 = data2.drop(columns = ['car_model','type','desc','problem','datetime','status'])\n",
    "data4 = data2.drop(columns = ['brand','type','desc','problem','datetime','status'])\n",
    "\n",
    "result = data3.groupby(['brand']).agg('count')\n",
    "print(result.sort_values('id',ascending=False))\n",
    "\n",
    "result = data4.groupby(['car_model']).agg('count')\n",
    "print(result.sort_values('id',ascending=False))"
   ]
  },
  {
   "cell_type": "code",
   "execution_count": null,
   "metadata": {},
   "outputs": [],
   "source": []
  },
  {
   "cell_type": "code",
   "execution_count": null,
   "metadata": {},
   "outputs": [],
   "source": []
  },
  {
   "cell_type": "code",
   "execution_count": null,
   "metadata": {},
   "outputs": [],
   "source": []
  },
  {
   "cell_type": "code",
   "execution_count": null,
   "metadata": {},
   "outputs": [],
   "source": []
  },
  {
   "cell_type": "code",
   "execution_count": null,
   "metadata": {},
   "outputs": [],
   "source": []
  }
 ],
 "metadata": {
  "kernelspec": {
   "display_name": "Python 3",
   "language": "python",
   "name": "python3"
  },
  "language_info": {
   "codemirror_mode": {
    "name": "ipython",
    "version": 3
   },
   "file_extension": ".py",
   "mimetype": "text/x-python",
   "name": "python",
   "nbconvert_exporter": "python",
   "pygments_lexer": "ipython3",
   "version": "3.7.6"
  }
 },
 "nbformat": 4,
 "nbformat_minor": 4
}
